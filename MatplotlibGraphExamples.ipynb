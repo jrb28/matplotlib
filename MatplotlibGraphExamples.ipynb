{
 "cells": [
  {
   "cell_type": "markdown",
   "metadata": {},
   "source": [
    "# Graphing Data with matplotlib\n",
    "We will extract data series to plot from pandas DataFrames but, first, let's do a very simple example of a matplotlib line chart and scatterplot.  "
   ]
  },
  {
   "cell_type": "markdown",
   "metadata": {},
   "source": [
    "The statement below causes the matplotlib graphs to appear within the Jupter notebook rather than in a separate window that pops up.  This can be very convenient because, among other reasons, the image will be retained in the notebook and computation will not be paused when many graphs are constructed within a loop.  Statements that start with '%' are called magic functions.  I think it is also fair to say that these are system-level commands that you might type in a DOS Command Window.  The '%' indicates a system command so that it is executed properly.  This web page talks about magis functions: https://stackoverflow.com/questions/20961287/what-is-pylab"
   ]
  },
  {
   "cell_type": "code",
   "execution_count": null,
   "metadata": {
    "collapsed": true
   },
   "outputs": [],
   "source": [
    "%matplotlib inline"
   ]
  },
  {
   "cell_type": "markdown",
   "metadata": {},
   "source": [
    "The next statement imports the graphing package we will use and uses a very popular, if not ubiquitous alias, plt, for this matplotlib package."
   ]
  },
  {
   "cell_type": "code",
   "execution_count": null,
   "metadata": {
    "collapsed": true
   },
   "outputs": [],
   "source": [
    "import matplotlib.pyplot as plt"
   ]
  },
  {
   "cell_type": "markdown",
   "metadata": {},
   "source": [
    "## Simple Examples First: Line and Scatterplot"
   ]
  },
  {
   "cell_type": "markdown",
   "metadata": {},
   "source": [
    "The contents of matplotlib_eg_line.py are contained in the cell below.  The <font face='courier'>plt.show()</font> command is required if you are working in Spyder, but not if you are working in Jupyter and have executed this command: <font face='courier'>%matplotlib inline</font>"
   ]
  },
  {
   "cell_type": "code",
   "execution_count": null,
   "metadata": {
    "collapsed": true
   },
   "outputs": [],
   "source": [
    "xs = [0,82.0442626658045,164.140532825633,249.101916493353,332.182520454561,416.254670963008,495.330844802651,575.152803567278,653.205144040749,738.002602107511,818.027625347191,898.118246791891,980.079475188722,1061.14169245002,1139.27372549306,1222.46124841828,1300.35875796241,1375.56916894815,1450.58381247379,1528.61926864683,1605.58397275636,1690.73526419816,1765.8607155748,1844.76374052086,1927.68455634244,2007.86892722346,2086.83606915306,2166.71913598734,2251.80135023691,2335.70816516882,2420.79263834332,2499.86354911873,2577.05890165442,2654.19208140119,2730.09283946298,2809.07577275313,2894.08624312766,2969.05670691318,3049.93958564477,3129.75861740531,3206.68277248806,3283.60346903165,3364.58552562287,3449.40362446521,3525.4406380069,3608.13685182861,3690.05929028829,3773.14656467608,3850.22786804579,3930.30737684189,4015.46434790825,4093.50879464788,4172.64841837878,4252.66450124259,4335.57956650011,4420.52164467734,4495.52991250898,4575.39742270308,4650.49642074232,4730.52574677055,4805.68851119975,4880.60019974235,4960.70865715944,5043.67168991259,5118.73724644963,5203.54753389807,5283.38430140739,5359.51383129058,5438.3504224767,5519.19106748314,5597.38879699402]\n",
    "ys = [69,70.5331166725557,71.5580608629997,71.7925736363559,71.3468902075964,70.8280365103217,70.6414982437025,70.4451053764375,70.3795952412711,69.7645648576213,69.5426154537094,69.3004779067882,68.9026747371149,68.599154906399,68.519069857217,68.3772433121902,69.1486631584102,68.7548264957532,68.3609585242701,68.5575021969504,68.5786288310157,70.1801398605569,69.7914710297875,70.1491959166127,71.3308639026079,71.9361568322099,71.7841530239482,71.5632100706621,70.9532872882161,70.4120650812618,69.7956890967353,69.6193830861858,69.6154149236862,69.6130427165012,69.7102463368457,69.5264209638887,68.9050613087613,69.1051712486311,68.8193037564598,68.6066819000086,68.6092749335593,68.6204785117934,68.3360360051156,68.5812312774717,68.3713770000006,69.5440095449469,70.5260768620176,72.0285425812187,72.0349254824144,71.8158332177273,71.1892654017154,71.1169346409977,70.8948191898231,70.6895661675202,70.2298913978404,69.6255849641529,69.7340391269025,69.5070018796742,69.6617353391113,69.4627544694931,69.630774569752,69.8026157834872,69.5269217792645,69.0549816241028,69.1984712324886,68.3562401007611,68.1422906748129,68.2062726166005,68.0498033914326,68.6018257745021,68.7606159741864]\n",
    "\n",
    "plt.plot(xs,ys)\n",
    "plt.show()"
   ]
  },
  {
   "cell_type": "markdown",
   "metadata": {},
   "source": [
    "The contents of <font face='courier'>matplotlib_eg_scatter.py</font> are contained in the cell below."
   ]
  },
  {
   "cell_type": "code",
   "execution_count": null,
   "metadata": {
    "collapsed": true
   },
   "outputs": [],
   "source": [
    "import matplotlib.pyplot as plt\n",
    "\n",
    "xs = [0,82.0442626658045,164.140532825633,249.101916493353,332.182520454561,416.254670963008,495.330844802651, \\\n",
    "      575.152803567278,653.205144040749,738.002602107511,818.027625347191,898.118246791891,980.079475188722, \\\n",
    "      1061.14169245002,1139.27372549306,1222.46124841828,1300.35875796241,1375.56916894815,1450.58381247379, \\\n",
    "      1528.61926864683,1605.58397275636,1690.73526419816,1765.8607155748,1844.76374052086,1927.68455634244, \\\n",
    "      2007.86892722346,2086.83606915306,2166.71913598734,2251.80135023691,2335.70816516882,2420.79263834332, \\\n",
    "      2499.86354911873,2577.05890165442,2654.19208140119,2730.09283946298,2809.07577275313,2894.08624312766, \\\n",
    "      2969.05670691318,3049.93958564477,3129.75861740531,3206.68277248806,3283.60346903165,3364.58552562287, \\\n",
    "      3449.40362446521,3525.4406380069,3608.13685182861,3690.05929028829,3773.14656467608,3850.22786804579, \\\n",
    "      3930.30737684189,4015.46434790825,4093.50879464788,4172.64841837878,4252.66450124259,4335.57956650011, \\\n",
    "      4420.52164467734,4495.52991250898,4575.39742270308,4650.49642074232,4730.52574677055,4805.68851119975, \\\n",
    "      4880.60019974235,4960.70865715944,5043.67168991259,5118.73724644963,5203.54753389807,5283.38430140739, \\\n",
    "      5359.51383129058,5438.3504224767,5519.19106748314,5597.38879699402]\n",
    "ys = [69,70.5331166725557,71.5580608629997,71.7925736363559,71.3468902075964,70.8280365103217,70.6414982437025, \\\n",
    "      70.4451053764375,70.3795952412711,69.7645648576213,69.5426154537094,69.3004779067882,68.9026747371149,68.599154906399, \\\n",
    "      68.519069857217,68.3772433121902,69.1486631584102,68.7548264957532,68.3609585242701,68.5575021969504,68.5786288310157, \\\n",
    "      70.1801398605569,69.7914710297875,70.1491959166127,71.3308639026079,71.9361568322099,71.7841530239482,71.5632100706621, \\\n",
    "      70.9532872882161,70.4120650812618,69.7956890967353,69.6193830861858,69.6154149236862,69.6130427165012,69.7102463368457, \\\n",
    "      69.5264209638887,68.9050613087613,69.1051712486311,68.8193037564598,68.6066819000086,68.6092749335593,68.6204785117934, \\\n",
    "      68.3360360051156,68.5812312774717,68.3713770000006,69.5440095449469,70.5260768620176,72.0285425812187,72.0349254824144, \\\n",
    "      71.8158332177273,71.1892654017154,71.1169346409977,70.8948191898231,70.6895661675202,70.2298913978404,69.6255849641529, \\\n",
    "      69.7340391269025,69.5070018796742,69.6617353391113,69.4627544694931,69.630774569752,69.8026157834872,69.5269217792645, \\\n",
    "      69.0549816241028,69.1984712324886,68.3562401007611,68.1422906748129,68.2062726166005,68.0498033914326,68.6018257745021, \\\n",
    "      68.7606159741864]\n",
    "\n",
    "plt.scatter(xs,ys)\n",
    "plt.show()"
   ]
  },
  {
   "cell_type": "markdown",
   "metadata": {},
   "source": [
    "The data for the previous graphs was typed, which is rearely done.  We'll need to input data automatically from files, databases, and other sources.  The pandas package provides a great resource for reading data files, and so we'll use pandas to input the data and manage it so we'll need to import that package."
   ]
  },
  {
   "cell_type": "markdown",
   "metadata": {},
   "source": [
    "# Inputting Data from Text Files\n",
    "\n",
    "Data will never be hard-coded, so we need to learn to input it from text files, databases, the Internet, and other sources.\n",
    "\n",
    "The file <font face='courier'>xys.txt</font> contains the same information as is hard-coded for the two lists xs and ys.  Let's read it in and plot it.  We can use some of the same code."
   ]
  },
  {
   "cell_type": "code",
   "execution_count": null,
   "metadata": {
    "collapsed": true
   },
   "outputs": [],
   "source": [
    "import matplotlib.pyplot as plt\n",
    "\n",
    "\"\"\" Create empty lists for xs and ys to be populated later \"\"\"\n",
    "xs = []\n",
    "ys = []\n",
    "\n",
    "\"\"\" Prepare to read in the data \"\"\"\n",
    "f = open('xys.txt','r')\n",
    "\n",
    "\"\"\" Read in the data \"\"\"\n",
    "for line in f.readlines():\n",
    "    #line = line.strip()\n",
    "    #line = line.split(',')\n",
    "    #xs.append(float(line[0]))\n",
    "    #ys.append(float(line[1]))\n",
    "    print(line)\n",
    "\n",
    "#print(xs)\n",
    "#print(ys)\n",
    "\n",
    "\"\"\" Plot the data \"\"\"\n",
    "plt.scatter(xs,ys)\n",
    "plt.show()"
   ]
  },
  {
   "cell_type": "markdown",
   "metadata": {},
   "source": [
    "# Inputting and Handling Data with the <font face='courier'>pandas</font> package\n",
    "We'll use pandas to input the data and manage it so we'll need to import that package."
   ]
  },
  {
   "cell_type": "code",
   "execution_count": null,
   "metadata": {
    "collapsed": true
   },
   "outputs": [],
   "source": [
    "import pandas as pd"
   ]
  },
  {
   "cell_type": "markdown",
   "metadata": {},
   "source": [
    "These are the data we will be working with using the pandas DataFrame data type"
   ]
  },
  {
   "cell_type": "markdown",
   "metadata": {},
   "source": [
    "df is often used as a variable name to denote a entity of the pandas DataFrame type"
   ]
  },
  {
   "cell_type": "markdown",
   "metadata": {},
   "source": [
    "The pandas <font face='courier'>.read_csv()</font> method is very useful.  Note that the data files must have column headings in the first row.  You'll, possibly, need to adjust the path to the location of your data file if it is not in the same folder as your default Jupyter folder.\n",
    "\n",
    "The first data set below (stored in the <font face='courier'>df_oz</font> DataFrame) is from William S. Cleveland and it is included in a typical R installation, whcih is my sources.  These data describe temperature, wind speed, ozone, and radiation levels over time.  The second data set, which is from the US Census web site, gives time series data for public (governmental) construction spending and private construction spending.  The last data set, which is stored in the df_test DataFrame, gives high school standard of learning (SOL) scores for six course sections of a social studies course. \n",
    "\n",
    "The double backslash, <font face='courier'>\\\\\\</font>, is used in the file paths below to avoid issues with escape characters.  Alternately, a forward slash could have been used, <font face='courier'>/</font>."
   ]
  },
  {
   "cell_type": "code",
   "execution_count": null,
   "metadata": {
    "collapsed": true
   },
   "outputs": [],
   "source": [
    "#df_oz = pd.read_csv('D:\\\\TeachingMaterials\\\\BusinessAnalytics\\\\Visualization\\\\VizData\\\\ozone.csv')\n",
    "df_oz = pd.read_csv('ozone.csv')"
   ]
  },
  {
   "cell_type": "code",
   "execution_count": null,
   "metadata": {},
   "outputs": [],
   "source": [
    "df_oz"
   ]
  },
  {
   "cell_type": "code",
   "execution_count": null,
   "metadata": {},
   "outputs": [],
   "source": [
    "df_oz.head()"
   ]
  },
  {
   "cell_type": "markdown",
   "metadata": {},
   "source": [
    "Before we start plotting, let's look at how you would find out about some of the properties of a DataFrame, atarting with descriptive statistics."
   ]
  },
  {
   "cell_type": "code",
   "execution_count": null,
   "metadata": {},
   "outputs": [],
   "source": [
    "df_oz.describe()"
   ]
  },
  {
   "cell_type": "markdown",
   "metadata": {},
   "source": [
    "The .shape command gives a tuple where the element in the 0th position is the number of rows in the DataFrame and the element in the 1st position indicates the number of columns."
   ]
  },
  {
   "cell_type": "code",
   "execution_count": null,
   "metadata": {},
   "outputs": [],
   "source": [
    "df_oz.shape"
   ]
  },
  {
   "cell_type": "markdown",
   "metadata": {},
   "source": [
    "The df_oz DataFrame contains four climatic data series for New York City.  Retrieve the column heading to see what they are."
   ]
  },
  {
   "cell_type": "code",
   "execution_count": null,
   "metadata": {},
   "outputs": [],
   "source": [
    "df_oz.columns"
   ]
  },
  {
   "cell_type": "code",
   "execution_count": null,
   "metadata": {},
   "outputs": [],
   "source": [
    "df_oz.columns.values"
   ]
  },
  {
   "cell_type": "markdown",
   "metadata": {},
   "source": [
    "Extract a column of data from a <font face='courier'>DataFrame</font> (a pandas <font face='courier'>Series</font> data type)"
   ]
  },
  {
   "cell_type": "code",
   "execution_count": null,
   "metadata": {},
   "outputs": [],
   "source": [
    "df_oz['temperature']"
   ]
  },
  {
   "cell_type": "code",
   "execution_count": null,
   "metadata": {},
   "outputs": [],
   "source": [
    "type(df_oz['temperature'])"
   ]
  },
  {
   "cell_type": "markdown",
   "metadata": {},
   "source": [
    "Extract a row from a DataFrame by index label."
   ]
  },
  {
   "cell_type": "code",
   "execution_count": null,
   "metadata": {},
   "outputs": [],
   "source": [
    "df_oz.loc[50]"
   ]
  },
  {
   "cell_type": "markdown",
   "metadata": {},
   "source": [
    "Extract a particular row element form a particular column."
   ]
  },
  {
   "cell_type": "code",
   "execution_count": null,
   "metadata": {},
   "outputs": [],
   "source": [
    "df_oz['temperature'].loc[50]"
   ]
  },
  {
   "cell_type": "code",
   "execution_count": null,
   "metadata": {},
   "outputs": [],
   "source": [
    "df_oz.loc[50]['temperature']"
   ]
  },
  {
   "cell_type": "markdown",
   "metadata": {},
   "source": [
    "Select a slice of the <font face='courier'>temperature</font> series."
   ]
  },
  {
   "cell_type": "code",
   "execution_count": null,
   "metadata": {},
   "outputs": [],
   "source": [
    "df_oz['temperature'].loc[50:100]"
   ]
  },
  {
   "cell_type": "markdown",
   "metadata": {},
   "source": [
    "Select a slice of multiple series."
   ]
  },
  {
   "cell_type": "code",
   "execution_count": null,
   "metadata": {},
   "outputs": [],
   "source": [
    "df_oz[['ozone','temperature']].loc[50:100]"
   ]
  },
  {
   "cell_type": "markdown",
   "metadata": {},
   "source": [
    "# <font face='courier'>matplotlib</font> and Object Orientation\n",
    "\n",
    "The top-level object is the figure, which contains many sub-copmponents, including a figure title, which is formally called the suptitle, and the axes, which contain the visual graph elements. You can say the the suptitle and axes objects are child objects of the figure object.\n",
    "\n",
    "![Figure Object](gomFig1.jpg)\n",
    "\n",
    "![Figure Hierarchy](gomFig2.jpg)"
   ]
  },
  {
   "cell_type": "markdown",
   "metadata": {},
   "source": [
    "Next we can drill down into the axes object and observe its child objects, which include the legend, the y-axis, the x-axis, vertical and horizontal lines, and grid lines.\n",
    "\n",
    "![Axes Object](gomAxes1.jpg)\n",
    "\n",
    "![Axes Hierarchy](gomAxes2.jpg)"
   ]
  },
  {
   "cell_type": "markdown",
   "metadata": {},
   "source": [
    "Although we have looked at only a small fraction of the objects within a matplotlib figure, we can view the hierarchical structure of the objects we have observed in the succession above.\n",
    "\n",
    "![X-axis Object](gomHierarchy.jpg)"
   ]
  },
  {
   "cell_type": "markdown",
   "metadata": {},
   "source": [
    "# Using <font face='courier'>pandas</font> and the <font face='courier'>matplotlib</font> Object Model\n",
    "Let's investigate the relationship of ozone level to wind speed with a scatter plot."
   ]
  },
  {
   "cell_type": "code",
   "execution_count": null,
   "metadata": {},
   "outputs": [],
   "source": [
    "\"\"\" Format of the scatterplot method is as follows: ax.scatter(x-series, y-series) \"\"\"\n",
    "fig, ax = plt.subplots()\n",
    "\"\"\" \n",
    "ax.scatter() statement creates scatterplot\n",
    "The 'alpha' parameter controls dot transparency: 1 = solid, <1 = various transparency levels, 0 = no mark\n",
    "The c parameter designates color of the dots: 'b' stands for blue  \n",
    "\"\"\"\n",
    "ax.scatter(df_oz['wind'], df_oz['ozone'], alpha=0.5, c = 'b')  \n",
    "fig.suptitle('Ozone vs. Wind Speed')   # Graph title\n",
    "ax.xaxis.set_label_text('Wind Speed')  # x-axis caption\n",
    "ax.yaxis.set_label_text('Ozone')       # y-axis caption\n",
    "fig.set_size_inches(7,5)\n",
    "plt.show()"
   ]
  },
  {
   "cell_type": "markdown",
   "metadata": {},
   "source": [
    "Here's ozone level versus solar radiation.  What relationship do you see?"
   ]
  },
  {
   "cell_type": "code",
   "execution_count": null,
   "metadata": {},
   "outputs": [],
   "source": [
    "\"\"\" Format of the scatterplot method is as follows: ax.scatter(x-series, y-series) \"\"\"\n",
    "fig, ax = plt.subplots()\n",
    "\"\"\" \n",
    "ax.scatter() statement creates scatterplot\n",
    "The 'alpha' parameter controls dot transparency: 1 = solid, <1 = various transparency levels, 0 = no mark\n",
    "The c parameter designates color of the dots: 'b' stands for blue  \n",
    "\"\"\"\n",
    "ax.scatter(df_oz['radiation'], df_oz['ozone'], alpha=0.5, c = 'b')    # the 'alpha' parameter controls dot opacity\n",
    "fig.suptitle('Ozone vs. Radiation')\n",
    "ax.xaxis.set_label_text('Radiation (langleys)')\n",
    "ax.yaxis.set_label_text('Ozone (ppb)')\n",
    "ax.set_xlim(0,400)                                                    # Set min and max for y axis\n",
    "ax.set_ylim(0,200) \n",
    "ax.spines['right'].set_visible(False)\n",
    "ax.spines['top'].set_visible(False)\n",
    "fig.set_size_inches(7,5)\n",
    "plt.show()"
   ]
  },
  {
   "cell_type": "markdown",
   "metadata": {},
   "source": [
    "# Distributional Data: Histograms and Bar Charts\n",
    "Let's look at some distributional data from a database that contains student scores for two tests, one taken at the beginning of the year and one at the end of the year.  Each student's scores are recorded along with their isntructor, school number, and course section number.  Here are the column names:"
   ]
  },
  {
   "cell_type": "code",
   "execution_count": null,
   "metadata": {
    "collapsed": true
   },
   "outputs": [],
   "source": [
    "#df_test = pd.read_csv('D:/TeachingMaterials/BusinessAnalytics/Visualization/MSBAST1DataPrograms\\\\test.csv')\n",
    "df_test = pd.read_csv('test.csv')"
   ]
  },
  {
   "cell_type": "code",
   "execution_count": null,
   "metadata": {},
   "outputs": [],
   "source": [
    "df_test"
   ]
  },
  {
   "cell_type": "code",
   "execution_count": null,
   "metadata": {},
   "outputs": [],
   "source": [
    "df_test.columns.values"
   ]
  },
  {
   "cell_type": "markdown",
   "metadata": {},
   "source": [
    "Here's what the data look like:"
   ]
  },
  {
   "cell_type": "code",
   "execution_count": null,
   "metadata": {},
   "outputs": [],
   "source": [
    "df_test.head()"
   ]
  },
  {
   "cell_type": "markdown",
   "metadata": {},
   "source": [
    "Before we proceed, let's clean things up a bit by using the StudentIdentifier data as the index.  It is unnecessary to have both the (automatic) integer index and the StudentIdentifier."
   ]
  },
  {
   "cell_type": "code",
   "execution_count": null,
   "metadata": {
    "collapsed": true
   },
   "outputs": [],
   "source": [
    "df_test1 = df_test.set_index('StudentIdentifier')"
   ]
  },
  {
   "cell_type": "code",
   "execution_count": null,
   "metadata": {},
   "outputs": [],
   "source": [
    "df_test1.head()"
   ]
  },
  {
   "cell_type": "markdown",
   "metadata": {},
   "source": [
    "The <font face='courier'>pandas.unique()</font> method provides easy access to a list of the distinct entries in each column, for example to find what instructors are represented in the database."
   ]
  },
  {
   "cell_type": "code",
   "execution_count": null,
   "metadata": {},
   "outputs": [],
   "source": [
    "df_test1['InstructorName'].unique()"
   ]
  },
  {
   "cell_type": "markdown",
   "metadata": {},
   "source": [
    "Let's filter the rows, choosing only those rows where Smith is the instructor"
   ]
  },
  {
   "cell_type": "code",
   "execution_count": null,
   "metadata": {},
   "outputs": [],
   "source": [
    "df_test1.loc[df_test1['InstructorName'] == 'Smith']"
   ]
  },
  {
   "cell_type": "markdown",
   "metadata": {},
   "source": [
    "Let's plot a frequency histogram of this data for the year end test scores."
   ]
  },
  {
   "cell_type": "code",
   "execution_count": null,
   "metadata": {
    "scrolled": true
   },
   "outputs": [],
   "source": [
    "df_test1.loc[df_test1['InstructorName'] == 'Smith']['EndYearTestScore']"
   ]
  },
  {
   "cell_type": "markdown",
   "metadata": {},
   "source": [
    "Here's a frequency histogram for Instructor Smith's students at the end of the school year using the <font face='courier'>ax.hist()</font> method, which converts the data into a frequency histogram."
   ]
  },
  {
   "cell_type": "code",
   "execution_count": null,
   "metadata": {},
   "outputs": [],
   "source": [
    "fig, ax = plt.subplots()\n",
    "ax.hist(x = df_test1.loc[df_test1['InstructorName'] == 'Smith']['EndYearTestScore'], bins = 20, facecolor='g', alpha=0.75)\n",
    "\n",
    "fig.suptitle('End of Year test Score Frequency Histogram')\n",
    "fig.set_size_inches(7,5)\n",
    "\n",
    "ax.xaxis.set_label_text('End Year Test Score')\n",
    "ax.xaxis.set_tick_params(which = 'both', top = False, bottom = True, labelbottom = True)  # Turn top x axis tick marks off \n",
    "\n",
    "ax.yaxis.set_label_text('Frequency of Scores')\n",
    "ax.yaxis.set_tick_params(which = 'both', right = False, left = True, labelleft = True)   # Turn right y axis tick marks off\n",
    "\n",
    "ax.set_xlim(64, 85)\n",
    "ax.set_ylim(0, 8)\n",
    "ax.spines['right'].set_visible(False)\n",
    "ax.spines['top'].set_visible(False)\n",
    "ax.grid(True)"
   ]
  },
  {
   "cell_type": "markdown",
   "metadata": {},
   "source": [
    "A bar chart can be used to create a histogram also, but using this chart type requires that the data be processed into frequency histogram format before plotting."
   ]
  },
  {
   "cell_type": "code",
   "execution_count": null,
   "metadata": {},
   "outputs": [],
   "source": [
    "\"\"\" Create frequency histogram data from DataFrame \"\"\"\n",
    "scores = df_test1.loc[df_test1['InstructorName'] == 'Smith']['EndYearTestScore']\n",
    "scores = dict(scores.value_counts())\n",
    "scoresminx = min(scores)\n",
    "maxx = max(scores)\n",
    "minx = min(scores)\n",
    "x = [i for i in range(minx,maxx+1)]\n",
    "freq = [scores[i] for i in range(minx,maxx+1)]\n",
    "\n",
    "\"\"\" Plot frequency histogram data \"\"\"\n",
    "fig, ax = plt.subplots()\n",
    "ax.bar(x=x,height=freq, color='g', alpha=0.75)\n",
    "\n",
    "fig.suptitle('End of Year test Score Frequency Histogram')\n",
    "fig.set_size_inches(7,5)\n",
    "\n",
    "ax.xaxis.set_label_text('End Year Test Score')\n",
    "ax.xaxis.set_tick_params(which = 'both', top = False, bottom = True, labelbottom = True)  # Turn top x axis tick marks off \n",
    "\n",
    "ax.yaxis.set_label_text('Frequency of Scores')\n",
    "ax.yaxis.set_tick_params(which = 'both', right = False, left = True, labelleft = True)   # Turn right y axis tick marks off\n",
    "\n",
    "#ax.set_xticks(range(minx,maxx+1))\n",
    "#ax.set_xticklabels(range(minx,maxx+1))\n",
    "\n",
    "#ax.set_xlim(64, 85)\n",
    "#ax.set_ylim(0, 8)\n",
    "ax.spines['right'].set_visible(False)\n",
    "ax.spines['top'].set_visible(False)\n",
    "ax.grid(False)"
   ]
  },
  {
   "cell_type": "markdown",
   "metadata": {},
   "source": [
    "Block of code from the cell above that creates a dictionary with the frequency histogram data."
   ]
  },
  {
   "cell_type": "code",
   "execution_count": null,
   "metadata": {},
   "outputs": [],
   "source": [
    "scores = df_test1.loc[df_test1['InstructorName'] == 'Smith']['EndYearTestScore']\n",
    "scores = dict(scores.value_counts())\n",
    "scores"
   ]
  },
  {
   "cell_type": "markdown",
   "metadata": {},
   "source": [
    "Here's one way to show a comparison of Smith's and Green's student scores at the end of the year.  Do you like the graph?  Is it easy to read?  Do you have any suggestions for improvement?"
   ]
  },
  {
   "cell_type": "code",
   "execution_count": null,
   "metadata": {},
   "outputs": [],
   "source": [
    "fig, ax = plt.subplots()\n",
    "\n",
    "ax.hist(x = df_test1.loc[df_test1['InstructorName'] == 'Smith']['EndYearTestScore'], bins = 20, facecolor='r')\n",
    "ax.hist(x = df_test1.loc[df_test1['InstructorName'] == 'Green']['EndYearTestScore'], bins = 20, facecolor='g')\n",
    "\n",
    "fig.suptitle('End of Year test Score Frequency Histogram')\n",
    "fig.set_size_inches(7,5)\n",
    "\n",
    "ax.xaxis.set_label_text('End Year Test Score')\n",
    "ax.xaxis.set_tick_params(which = 'both', top = False, bottom = True, labelbottom = True)  # Turn top x axis tick marks off \n",
    "\n",
    "ax.yaxis.set_label_text('Frequency of Scores')\n",
    "ax.yaxis.set_tick_params(which = 'both', right = False, left = True, labelleft = True)   # Turn right y axis tick marks off\n",
    "\n",
    "ax.set_xlim(64, 85)\n",
    "ax.set_ylim(0, 8)\n",
    "ax.spines['right'].set_visible(False)\n",
    "ax.spines['top'].set_visible(False)"
   ]
  },
  {
   "cell_type": "markdown",
   "metadata": {},
   "source": [
    "Well, that graph is poor and, actually, unacceptable.  You cannot see how high the bars/columns are for one of the series at many points on the x-axis.  Possibly, this graph might be improved if we made the columns partially opaque."
   ]
  },
  {
   "cell_type": "code",
   "execution_count": null,
   "metadata": {},
   "outputs": [],
   "source": [
    "fig, ax = plt.subplots()\n",
    "\n",
    "ax.hist(x = df_test1.loc[df_test1['InstructorName'] == 'Smith']['EndYearTestScore'], bins = 20, facecolor='r', alpha=0.5)\n",
    "ax.hist(x = df_test1.loc[df_test1['InstructorName'] == 'Green']['EndYearTestScore'], bins = 20, facecolor='g', alpha=0.5)\n",
    "\n",
    "fig.suptitle('End of Year test Score Frequency Histogram')\n",
    "fig.set_size_inches(7,5)\n",
    "\n",
    "ax.xaxis.set_label_text('End Year Test Score')\n",
    "ax.xaxis.set_tick_params(which = 'both', top = False, bottom = True, labelbottom = True)  # Turn top x axis tick marks off \n",
    "\n",
    "ax.yaxis.set_label_text('Frequency of Scores')\n",
    "ax.yaxis.set_tick_params(which = 'both', right = False, left = True, labelleft = True)   # Turn right y axis tick marks off\n",
    "\n",
    "ax.set_xlim(64, 85)\n",
    "ax.set_ylim(0, 8)\n",
    "ax.spines['right'].set_visible(False)\n",
    "ax.spines['top'].set_visible(False)"
   ]
  },
  {
   "cell_type": "markdown",
   "metadata": {},
   "source": [
    "That approach was unsatisfactory also.  Perhaps it would help to plot the bars/columns side by side?"
   ]
  },
  {
   "cell_type": "code",
   "execution_count": null,
   "metadata": {},
   "outputs": [],
   "source": [
    "fig, ax = plt.subplots()\n",
    "\n",
    "n, bins, patches = ax.hist((df_test1.loc[df_test1['InstructorName'] == 'Smith']['EndYearTestScore'], \\\n",
    "         df_test1.loc[df_test1['InstructorName'] == 'Green']['EndYearTestScore']), bins = 20, stacked = False)\n",
    "for i in range(len(patches)):\n",
    "    if i%2 == 0:\n",
    "        plt.setp(patches[i],'facecolor','r')\n",
    "    else:\n",
    "        plt.setp(patches[i],'facecolor','g')\n",
    "\n",
    "fig.suptitle('End of Year test score Frequency Histogram')\n",
    "fig.set_size_inches(7,5)\n",
    "\n",
    "ax.xaxis.set_label_text('End Year Test Score')\n",
    "ax.xaxis.set_tick_params(which = 'both', top = False, bottom = True, labelbottom = True)  # Turn top x axis tick marks off \n",
    "\n",
    "ax.yaxis.set_label_text('Frequency of Scores')\n",
    "ax.yaxis.set_tick_params(which = 'both', right = False, left = True, labelleft = True)   # Turn right y axis tick marks off\n",
    "\n",
    "ax.set_xlim(64, 85)\n",
    "ax.set_ylim(0, 8)\n",
    "ax.spines['right'].set_visible(False)\n",
    "ax.spines['top'].set_visible(False)\n",
    "ax.legend(['Smith','Green'], loc=2)"
   ]
  },
  {
   "cell_type": "markdown",
   "metadata": {},
   "source": [
    "That approach was unsatisfactory as well.  At least we demonstrated some of the  techniques available with <font face='courier'>matplotlib</font>.  We will show a much superior method later on."
   ]
  },
  {
   "cell_type": "code",
   "execution_count": null,
   "metadata": {
    "collapsed": true
   },
   "outputs": [],
   "source": [
    "df_test2 = pd.concat([df_test1.loc[df_test1['InstructorName'] == 'Smith']['EndYearTestScore'],df_test1.loc[df_test1['InstructorName'] == 'Green']['EndYearTestScore']], axis = 1)\n",
    "df_test2.columns = ['Smith','Green']"
   ]
  },
  {
   "cell_type": "code",
   "execution_count": null,
   "metadata": {
    "collapsed": true
   },
   "outputs": [],
   "source": [
    "df_test1.loc[df_test1['InstructorName'] == 'Green']['EndYearTestScore']"
   ]
  },
  {
   "cell_type": "code",
   "execution_count": null,
   "metadata": {
    "collapsed": true
   },
   "outputs": [],
   "source": [
    "df_test2"
   ]
  },
  {
   "cell_type": "markdown",
   "metadata": {},
   "source": [
    "Here's a boxplot of Smith's end of year student test scores."
   ]
  },
  {
   "cell_type": "code",
   "execution_count": null,
   "metadata": {
    "collapsed": true
   },
   "outputs": [],
   "source": [
    "fig, ax = plt.subplots()\n",
    "\n",
    "ax.boxplot(df_test1.loc[df_test1['InstructorName'] == 'Smith']['EndYearTestScore'])\n",
    "\n",
    "ax.yaxis.axes.set_ylim(60,85)\n",
    "ax.set_xticklabels(['Smith'])\n",
    "\n",
    "# Reducing clutter\n",
    "ax.xaxis.set_tick_params(which = 'both', top = False, bottom = True, labelbottom = True)  # Turn top x axis tick marks off \n",
    "ax.yaxis.set_tick_params(which = 'both', right = False, left = True, labelleft = True)   # Turn right y axis tick marks off\n",
    "ax.spines['right'].set_visible(False)\n",
    "ax.spines['top'].set_visible(False)"
   ]
  },
  {
   "cell_type": "markdown",
   "metadata": {},
   "source": [
    "Code for comparing Smith and Green"
   ]
  },
  {
   "cell_type": "code",
   "execution_count": null,
   "metadata": {},
   "outputs": [],
   "source": [
    "# Get data\n",
    "data = []       # create an empty Python list; sublists will be appended for each boxplot\n",
    "data.append(df_test1.loc[df_test1['InstructorName'] == 'Smith']['EndYearTestScore'])\n",
    "data.append(df_test1.loc[df_test1['InstructorName'] == 'Green']['EndYearTestScore'])\n",
    "data_min = min([min(sublist) for sublist in data])  # this and the following 3 lines automatically size the graph to the data \n",
    "data_max = max([max(sublist) for sublist in data])  # while providing buffer space\n",
    "\n",
    "fig, ax = plt.subplots()\n",
    "\n",
    "fig.set_figheight(5)\n",
    "fig.set_figwidth(7)\n",
    "ax.boxplot(data)\n",
    "\n",
    "ax.yaxis.axes.set_ylim(data_min - 2, data_max + 2)\n",
    "ax.set_xticklabels(['Smith','Green'])\n",
    "ax.set_ylabel('Test Score')\n",
    "ax.set_xlabel('Instructor')\n",
    "\n",
    "# Reducing clutter\n",
    "ax.xaxis.set_tick_params(which = 'both', top = False, bottom = True, labelbottom = True)  # Turn top x axis tick marks off \n",
    "ax.yaxis.set_tick_params(which = 'both', right = False, left = True, labelleft = True)   # Turn right y axis tick marks off\n",
    "ax.spines['right'].set_visible(False)\n",
    "ax.spines['top'].set_visible(False)"
   ]
  },
  {
   "cell_type": "markdown",
   "metadata": {},
   "source": [
    "Code for comparing Smith, Jones, and Green with a more flexible approach for selecting instructors to compare."
   ]
  },
  {
   "cell_type": "code",
   "execution_count": null,
   "metadata": {},
   "outputs": [],
   "source": [
    "# Get data\n",
    "instructors = ['Smith','Green','Jones']\n",
    "data = []       # create an empty Python list; sublists will be appended for each boxplot\n",
    "for instructor in instructors:\n",
    "    data.append(df_test1.loc[df_test1['InstructorName'] == instructor]['EndYearTestScore'])\n",
    "data_min = min([min(sublist) for sublist in data])  # this and the following 3 lines automatically size the graph to the data \n",
    "data_max = max([max(sublist) for sublist in data])  # while providing buffer space\n",
    "\n",
    "fig, ax = plt.subplots()\n",
    "\n",
    "\"\"\" Alternate method for adjusting the figure size \"\"\"\n",
    "fig.set_figheight(5)\n",
    "fig.set_figwidth(7)\n",
    "#fig.add_axes\n",
    "\n",
    "ax.boxplot(data)\n",
    "\n",
    "ax.set_ylim(data_min - 2, data_max + 2)\n",
    "ax.set_xticklabels(instructors)\n",
    "ax.set_ylabel('Test Score')\n",
    "ax.set_xlabel('Instructor')\n",
    "ax.set_xticks(range(1,len(instructors)+1),instructors)\n",
    "\n",
    "# Reducing clutter\n",
    "ax.xaxis.set_tick_params(which = 'both', top = False, bottom = True, labelbottom = True)  # Turn top x axis tick marks off \n",
    "ax.yaxis.set_tick_params(which = 'both', right = False, left = True, labelleft = True)   # Turn right y axis tick marks off\n",
    "ax.spines['right'].set_visible(False)\n",
    "ax.spines['top'].set_visible(False)"
   ]
  },
  {
   "cell_type": "markdown",
   "metadata": {},
   "source": [
    "A box plot can be drawn more simply without using the fig, ax approach, but control over all teh chart elements is more difficult if impossible."
   ]
  },
  {
   "cell_type": "code",
   "execution_count": null,
   "metadata": {},
   "outputs": [],
   "source": [
    "data = []       # create an empty Python list; sublists will be appended for each boxplot\n",
    "instructors = ['Smith','Green','Jones']\n",
    "for instructor in instructors:\n",
    "    data.append(list(df_test1.loc[df_test1['InstructorName'] == instructor]['EndYearTestScore']))\n",
    "plt.boxplot(data)\n",
    "plt.xticks(range(1,len(instructors)+1),instructors)\n",
    "data_min = min([min(sublist) for sublist in data])  # this and the following 3 lines automatically size the graph to the data \n",
    "data_max = max([max(sublist) for sublist in data])  # while providing buffer space\n",
    "plt.ylim([data_min - 2, data_max + 2])   # alternate method for setting y-axis limits\n",
    "plt.show()"
   ]
  },
  {
   "cell_type": "markdown",
   "metadata": {},
   "source": [
    "# Pareto Diagrams\n",
    "\n",
    "Plotting the components of the U.S. budget."
   ]
  },
  {
   "cell_type": "code",
   "execution_count": null,
   "metadata": {},
   "outputs": [],
   "source": [
    "import matplotlib.pyplot as plt\n",
    "\n",
    "# Data\n",
    "bdata = [1.28,1.05,0.6093,0.22195,0.16063,0.1357,0.10226,0.08499,0.06148,0.05022,0.04485,0.02981]\n",
    "blabels = ['Unemp','Health','Mil.','Interest', 'Veterans','Agri.','Edu','Trans','Housing','Intl','EnergyEnv','Science']\n",
    "xs = range(len(bdata))\n",
    "bdata_cum = []\n",
    "for i in range(len(bdata)):\n",
    "    bdata_cum.append(sum(bdata[0:i+1])/sum(bdata))\n",
    "\n",
    "fig, ax = plt.subplots()\n",
    "fig.suptitle('United States Budget Analysis', fontsize = 16)\n",
    "\n",
    "# Set bar chart parameters\n",
    "ax.bar(xs,bdata, align='center')\n",
    "ax.set_ylim(0,sum(bdata))\n",
    "ax.set_xticks(xs)\n",
    "ax.set_xticklabels(blabels, rotation = 45)\n",
    "ax.spines['top'].set_visible(False)\n",
    "ax.grid(False)\n",
    "\n",
    "ax.tick_params(axis = 'y', which = 'both', direction = 'in', width = 2, color = 'black')\n",
    "\n",
    "# Set line chart paramters and assign the second y axis\n",
    "ax1 = ax.twinx()\n",
    "ax1.plot(xs,bdata_cum,color='k')\n",
    "ax1.set_ylim(0,1)\n",
    "ax1.set_yticklabels(['{:1.1f}%'.format(x*100) for x in ax1.get_yticks()])\n",
    "ax1.spines['top'].set_visible(False)\n",
    "ax1.grid(False)\n",
    "\n",
    "#fig.set_figwidth(9)\n",
    "#fig.set_figheight(5)\n",
    "fig.set_size_inches(9,5)\n",
    "fig.savefig('pareto.jpg', dpi=2000)\n",
    "plt.show()"
   ]
  },
  {
   "cell_type": "markdown",
   "metadata": {
    "collapsed": true
   },
   "source": [
    "In the following code a typical version of a Pareto chart is shown where bars are shown for only the most frequent items."
   ]
  },
  {
   "cell_type": "code",
   "execution_count": null,
   "metadata": {},
   "outputs": [],
   "source": [
    "import matplotlib.pyplot as plt\n",
    "\n",
    "# Data\n",
    "blabels1 = ['SS','Health','Mil.','Interest', 'Vet.','Agri.','Other']\n",
    "bindex = 6\n",
    "bother = sum(bdata[bindex:])\n",
    "bdata1 = bdata[:bindex] + [bother]\n",
    "xs = range(len(bdata1))\n",
    "bdata_cum = []\n",
    "for i in range(len(bdata1)):\n",
    "    bdata_cum.append(sum(bdata1[0:i+1])/sum(bdata1))\n",
    "\n",
    "fig, ax = plt.subplots()\n",
    "fig.set_figwidth(9)\n",
    "fig.set_figheight(5)\n",
    "\n",
    "# Bar chart settings\n",
    "ax.set_xticks(xs)\n",
    "ax.set_xticklabels(blabels1)\n",
    "ax.bar(xs,bdata1, align='center')\n",
    "ax.set_ylim(0,sum(bdata1))\n",
    "\n",
    "# Line chart settings\n",
    "ax1 = ax.twinx()\n",
    "ax1.plot(xs,bdata_cum,color='k')\n",
    "ax1.set_ylim(0,1)\n",
    "ax1.set_yticklabels(['{:1.1f}%'.format(x*100) for x in ax1.get_yticks()])\n",
    "plt.show()"
   ]
  },
  {
   "cell_type": "markdown",
   "metadata": {},
   "source": [
    "# Construction Data\n",
    "This is the data that you will use for your Storytelling & Visualization aassignment due at the end of the course."
   ]
  },
  {
   "cell_type": "code",
   "execution_count": null,
   "metadata": {},
   "outputs": [],
   "source": [
    "df_con = pd.read_csv('ConstructionTimeSeriesDataV2.csv')"
   ]
  },
  {
   "cell_type": "code",
   "execution_count": null,
   "metadata": {},
   "outputs": [],
   "source": [
    "df_con.head()"
   ]
  },
  {
   "cell_type": "code",
   "execution_count": null,
   "metadata": {
    "scrolled": true
   },
   "outputs": [],
   "source": [
    "df_con['Total Construction']"
   ]
  },
  {
   "cell_type": "code",
   "execution_count": null,
   "metadata": {},
   "outputs": [],
   "source": [
    "x = df_con.index\n",
    "y = df_con['Total Construction']\n",
    "fig, ax = plt.subplots()\n",
    "fig.set_size_inches(6,4)               # figure must be resized prior to .plot() statement\n",
    "ax.plot(x,y,label='Total Construction')   \n",
    "ax.set_xlabel('Month',fontsize=14)                      # Title for the horizontal axis\n",
    "ax.set_ylabel('Construction Spending',fontsize=14)      # Title for the vertical axis\n",
    "ax.spines['right'].set_visible(False)\n",
    "ax.spines['top'].set_visible(False)\n",
    "#ax.spines['left'].set_edgecolor('b')\n",
    "#ax.spines['bottom'].set_position(('outward', 10))\n",
    "plt.axis([0,max(df_con['Month'])+1,0,max(df_con['Total Construction'])*1.05],fontsize=14)    # Set ranges of axes\n",
    "#ax.hlines(80000,min(x),max(x))\n",
    "#ax.vlines(60,0,max(df_con['Total Construction'])*1.05)\n",
    "#ax.axvspan(20,40, alpha=0.5, color='gray')\n",
    "plt.xticks(fontsize = 12)\n",
    "plt.grid(False)\n",
    "plt.show()"
   ]
  },
  {
   "cell_type": "code",
   "execution_count": null,
   "metadata": {
    "collapsed": true
   },
   "outputs": [],
   "source": [
    "x = df_con.Month\n",
    "y = df_con['Total Construction']\n",
    "y1 = df_con['Private Construction']\n",
    "plt.plot(x,y,label='Total Construction') # The label parameter is a label for the y axis data that will be used in the legend   \n",
    "plt.plot(x,y1,label='Private Construction')\n",
    "plt.xlabel('Month')                      # Title for the horizontal axis\n",
    "plt.ylabel('Construction Spending')      # Title for the vertical axis\n",
    "plt.axis([x.min(),x.max(),0,1.1*y.max()])\n",
    "plt.legend()\n",
    "plt.savefig('sample.jpg')"
   ]
  },
  {
   "cell_type": "code",
   "execution_count": null,
   "metadata": {
    "collapsed": true
   },
   "outputs": [],
   "source": [
    "# Extract data for graphing\n",
    "x = df_con.Month[0:12]\n",
    "y1 = df_con['Total Construction'][0:12]\n",
    "y2 = df_con['Private Construction'][0:12]\n",
    "\n",
    "# My variables\n",
    "x_labels = ['','J','F','M','A','M','J','J','A','S','O','N','D']\n",
    "\n",
    "# Create graph and assign Figure and Axes objects to variables fig and ax\n",
    "fig, ax = plt.subplots()\n",
    "\n",
    "# Plot the data and set other Axes attributes\n",
    "ax.plot(x,y1,label='Total Construction')                                  # Add y1 data to graph and create label for the legend\n",
    "ax.plot(x,y2,label='Private Construction')                                # Add y2 data to graph and create label for the legend\n",
    "ax.spines['right'].set_visible(False)                                                 # Remove right spine\n",
    "ax.spines['top'].set_visible(False)    # Remove top spine\n",
    "ax.legend(loc = 'lower center', prop = {'family':'Times New Roman', 'size':'large'})   # Add legend and format it\n",
    "ax.set_xlim(0,x.max()+1)                                                              # Set min and max for y axis\n",
    "ax.set_ylim(0,1.1*y1.max())                                                           # Set min and max for y axis\n",
    "\n",
    "# Set x-axis attributes\n",
    "ax.xaxis.set_label_text('Month',fontsize = 18, fontname = 'Times New Roman')\n",
    "ax.xaxis.set_ticks(range(0,13))\n",
    "ax.xaxis.set_ticklabels(x_labels)\n",
    "ax.xaxis.set_tick_params(which = 'both', top = False, bottom = True, labelbottom = True)  # Turn tick marks off for top x axis\n",
    "\n",
    "# Set y-axis attributes: the parameter 'both' refers to both major and minor tick marks\n",
    "ax.yaxis.set_label_text('Construction Spending',fontsize = 18, fontname = 'Times New Roman')      # Title for the vertical axis\n",
    "ax.yaxis.set_tick_params(which = 'both', right = False, left = True, labelleft = True)   # Turn tick marks off for right y axis\n",
    "\n",
    "# Set Figure attributes\n",
    "fig.set_size_inches(7,5)             # Set size of figure\n",
    "fig.suptitle('Private vs. Total Construction',fontsize='xx-large', fontname = 'Times New Roman')\n",
    "fig.tight_layout()                   # Helps with formatting and fitting everything into the figure\n",
    "plt.savefig('sample3.jpg')           # Save jpg of figure"
   ]
  },
  {
   "cell_type": "code",
   "execution_count": null,
   "metadata": {
    "collapsed": true
   },
   "outputs": [],
   "source": [
    "# Extract data for graphing\n",
    "x = df_con.Month[0:12]\n",
    "y1 = df_con['Total Construction'][0:12]\n",
    "y2 = df_con['Private Construction'][0:12]\n",
    "\n",
    "# My variables\n",
    "x_labels = ['','J','F','M','A','M','J','J','A','S','O','N','D']\n",
    "\n",
    "# Create graph and assign Figure and Axes objects to variables fig and Axes variables ax1 and ax2\n",
    "fig, (ax1, ax2) = plt.subplots(1,2,sharey=True)  # Create 2 Axes (subplots) and assign to ax1 and ax2 respectively\n",
    "\n",
    "# Plot the data and set other Axes attributes\n",
    "ax1.plot(x,y1,label='Total Construction')                                  # Add y1 data to graph and create label for the legend\n",
    "ax2.plot(x,y2,label='Private Construction')                                # Add y2 data to graph and create label for the legend\n",
    "\n",
    "# Set common axes attributes\n",
    "for ax in fig.axes:\n",
    "    ax.spines['right'].set_visible(False)                                                 # Remove right spine\n",
    "    ax.spines['top'].set_visible(False)                                                   # Remove top spine\n",
    "    ax.legend(loc = 'upper right', prop = {'family':'Times New Roman', 'size':'large'})   # Add legend and format it\n",
    "    ax.set_xlim(0,x.max()+1)                                                              # Set min and max for y axis\n",
    "    ax.set_ylim(0,1.1*y1.max())                                                           # Set min and max for y axis\n",
    "\n",
    "# Set x-axis attributes\n",
    "for ax in fig.axes:\n",
    "    ax.xaxis.set_label_text('Month',fontsize = 18)\n",
    "    ax.xaxis.set_ticks(range(0,13))\n",
    "    ax.xaxis.set_ticklabels(x_labels)\n",
    "    ax.xaxis.set_tick_params(which = 'both', top = False, bottom = True, labelbottom = True)  # Turn top x axis tick marks off \n",
    "\n",
    "# Set y-axis attributes: the parameter 'both' refers to both major and minor tick marks\n",
    "for ax in fig.axes:\n",
    "    ax.yaxis.set_label_text('Construction Spending',fontsize = 18, fontname = 'Times New Roman')    # Title for the vertical axis\n",
    "    ax.yaxis.set_tick_params(which = 'both', right = False, left = True, labelleft = True)   # Turn right y axis tick marks off \n",
    "\n",
    "# Set Figure attributes\n",
    "fig.set_size_inches(12,5)           # Set size of figure\n",
    "fig.tight_layout()                   # Helps with formatting and fitting everything into the figure\n",
    "plt.savefig('sample3.jpg')\n",
    "plt.show()"
   ]
  },
  {
   "cell_type": "code",
   "execution_count": null,
   "metadata": {
    "collapsed": true
   },
   "outputs": [],
   "source": [
    "x = df_con.index\n",
    "y = df_con['Total Construction']\n",
    "plt.figure(figsize=(24,4))               # figure must be resized prior to .plot() statement\n",
    "plt.plot(x,y,label='Total Construction')   \n",
    "plt.xlabel('Month',fontsize=14)                      # Title for the horizontal axis\n",
    "plt.ylabel('Construction Spending',fontsize=14)      # Title for the vertical axis\n",
    "plt.axis([0,max(df_con['Month'])+1,0,max(df_con['Total Construction'])*1.05],fontsize=14)    # Set ranges of axes\n",
    "plt.xticks(fontsize = 14)\n",
    "plt.show()"
   ]
  },
  {
   "cell_type": "code",
   "execution_count": null,
   "metadata": {
    "collapsed": true
   },
   "outputs": [],
   "source": [
    "x = df_con.index\n",
    "y = df_con['Total Construction']\n",
    "plt.figure(figsize=(6.5,4))               # figure must be resized prior to .plot() statement\n",
    "plt.plot(x,y,label='Total Construction')   \n",
    "plt.xlabel('Month',fontsize=14)                      # Title for the horizontal axis\n",
    "plt.ylabel('Construction Spending',fontsize=14)      # Title for the vertical axis\n",
    "plt.axis([0,max(df_con['Month'])+1,0,max(df_con['Total Construction'])*1.05],fontsize=14)    # Set ranges of axes\n",
    "plt.xticks(fontsize = 14)\n",
    "plt.show()"
   ]
  },
  {
   "cell_type": "markdown",
   "metadata": {},
   "source": [
    "# The seaborn Package \n",
    "seaborn is written 'on top of' matplotlib and automates many forms of multi-graph figures.  Here's is one example where each one-to-one relationships in the four fields in the ozone data are shown via a grid of scatter plots.  seaborn in this way takes care of a lot of detailed work that you would need to do if you used matplotlib to construct this graph."
   ]
  },
  {
   "cell_type": "code",
   "execution_count": null,
   "metadata": {
    "collapsed": true
   },
   "outputs": [],
   "source": [
    "import seaborn as sns"
   ]
  },
  {
   "cell_type": "code",
   "execution_count": null,
   "metadata": {
    "collapsed": true
   },
   "outputs": [],
   "source": [
    "sns.set(style=\"ticks\", color_codes=True)\n",
    "g = sns.pairplot(df_oz)\n",
    "g.savefig('ozone.jpg')"
   ]
  },
  {
   "cell_type": "code",
   "execution_count": null,
   "metadata": {
    "collapsed": true
   },
   "outputs": [],
   "source": [
    "sns.set(style=\"whitegrid\")\n",
    "\n",
    "xs = [0,82.0442626658045,164.140532825633,249.101916493353,332.182520454561,416.254670963008,495.330844802651,575.152803567278,653.205144040749,738.002602107511,818.027625347191,898.118246791891,980.079475188722,1061.14169245002,1139.27372549306,1222.46124841828,1300.35875796241,1375.56916894815,1450.58381247379,1528.61926864683,1605.58397275636,1690.73526419816,1765.8607155748,1844.76374052086,1927.68455634244,2007.86892722346,2086.83606915306,2166.71913598734,2251.80135023691,2335.70816516882,2420.79263834332,2499.86354911873,2577.05890165442,2654.19208140119,2730.09283946298,2809.07577275313,2894.08624312766,2969.05670691318,3049.93958564477,3129.75861740531,3206.68277248806,3283.60346903165,3364.58552562287,3449.40362446521,3525.4406380069,3608.13685182861,3690.05929028829,3773.14656467608,3850.22786804579,3930.30737684189,4015.46434790825,4093.50879464788,4172.64841837878,4252.66450124259,4335.57956650011,4420.52164467734,4495.52991250898,4575.39742270308,4650.49642074232,4730.52574677055,4805.68851119975,4880.60019974235,4960.70865715944,5043.67168991259,5118.73724644963,5203.54753389807,5283.38430140739,5359.51383129058,5438.3504224767,5519.19106748314,5597.38879699402]\n",
    "ys = [69,70.5331166725557,71.5580608629997,71.7925736363559,71.3468902075964,70.8280365103217,70.6414982437025,70.4451053764375,70.3795952412711,69.7645648576213,69.5426154537094,69.3004779067882,68.9026747371149,68.599154906399,68.519069857217,68.3772433121902,69.1486631584102,68.7548264957532,68.3609585242701,68.5575021969504,68.5786288310157,70.1801398605569,69.7914710297875,70.1491959166127,71.3308639026079,71.9361568322099,71.7841530239482,71.5632100706621,70.9532872882161,70.4120650812618,69.7956890967353,69.6193830861858,69.6154149236862,69.6130427165012,69.7102463368457,69.5264209638887,68.9050613087613,69.1051712486311,68.8193037564598,68.6066819000086,68.6092749335593,68.6204785117934,68.3360360051156,68.5812312774717,68.3713770000006,69.5440095449469,70.5260768620176,72.0285425812187,72.0349254824144,71.8158332177273,71.1892654017154,71.1169346409977,70.8948191898231,70.6895661675202,70.2298913978404,69.6255849641529,69.7340391269025,69.5070018796742,69.6617353391113,69.4627544694931,69.630774569752,69.8026157834872,69.5269217792645,69.0549816241028,69.1984712324886,68.3562401007611,68.1422906748129,68.2062726166005,68.0498033914326,68.6018257745021,68.7606159741864]\n",
    "\n",
    "\n",
    "#import seaborn as sns\n",
    "sns.set(style=\"darkgrid\", color_codes=True)\n",
    "\n",
    "tips = sns.load_dataset(\"tips\")\n",
    "g = sns.jointplot(\"total_bill\", \"tip\", data=tips, kind=\"reg\",\n",
    "                  xlim=(0, 60), ylim=(0, 12), color=\"r\", size=7)"
   ]
  },
  {
   "cell_type": "code",
   "execution_count": null,
   "metadata": {
    "collapsed": true
   },
   "outputs": [],
   "source": [
    "import matplotlib as mpl\n",
    "import importlib\n",
    "importlib.reload(mpl); importlib.reload(plt); importlib.reload(sns)"
   ]
  },
  {
   "cell_type": "code",
   "execution_count": null,
   "metadata": {
    "collapsed": true
   },
   "outputs": [],
   "source": [
    "sns.set_style(\"whitegrid\")"
   ]
  },
  {
   "cell_type": "code",
   "execution_count": null,
   "metadata": {
    "collapsed": true
   },
   "outputs": [],
   "source": []
  }
 ],
 "metadata": {
  "kernelspec": {
   "display_name": "Python 3",
   "language": "python",
   "name": "python3"
  },
  "language_info": {
   "codemirror_mode": {
    "name": "ipython",
    "version": 3
   },
   "file_extension": ".py",
   "mimetype": "text/x-python",
   "name": "python",
   "nbconvert_exporter": "python",
   "pygments_lexer": "ipython3",
   "version": "3.6.3"
  }
 },
 "nbformat": 4,
 "nbformat_minor": 1
}
